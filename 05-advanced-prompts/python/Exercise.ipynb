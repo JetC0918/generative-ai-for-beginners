{
 "cells": [
  {
   "cell_type": "code",
   "execution_count": 1,
   "id": "538915ae-22eb-4950-a10c-0ae9a2f62cfe",
   "metadata": {},
   "outputs": [],
   "source": [
    "import os\n",
    "from openai import OpenAI\n",
    "from dotenv import load_dotenv\n",
    "load_dotenv()\n",
    "\n",
    "client = OpenAI()\n",
    "\n",
    "deployment=\"gpt-3.5-turbo\""
   ]
  },
  {
   "cell_type": "code",
   "execution_count": 2,
   "id": "653f7ec3-c4e3-435d-88a4-2df59df4fa1a",
   "metadata": {},
   "outputs": [],
   "source": [
    "code = \"\"\"\n",
    "from flask import Flask, request\n",
    "\n",
    "app = Flask(__name__)\n",
    "\n",
    "@app.route('/')\n",
    "def hello():\n",
    "    name = request.args.get('name', 'World')\n",
    "    return f'Hello, {name}!'\n",
    "\n",
    "if __name__ == '__main__':\n",
    "    app.run()\n",
    "\"\"\"\n",
    "\n"
   ]
  },
  {
   "cell_type": "code",
   "execution_count": 4,
   "id": "7bd2e6b8-b28f-44af-87a6-aebc7215961a",
   "metadata": {},
   "outputs": [
    {
     "name": "stdout",
     "output_type": "stream",
     "text": [
      "Here are 3 improvements to the code snippet provided:\n",
      "\n",
      "1. Improve error handling: To handle potential exceptions, it's a good practice to include appropriate error handling in your code.\n",
      "2. Implement logging: Adding logging statements can help in monitoring and debugging the application.\n",
      "3. Consider input validation: You can consider adding input validation to ensure that expected inputs are used.\n",
      "\n",
      "Here is the refined code with these improvements:\n",
      "\n",
      "```python\n",
      "import logging\n",
      "from flask import Flask, request\n",
      "\n",
      "app = Flask(__name__)\n",
      "\n",
      "logging.basicConfig(level=logging.INFO)\n",
      "\n",
      "@app.route('/')\n",
      "def hello():\n",
      "    try:\n",
      "        name = request.args.get('name', 'World')\n",
      "        return f'Hello, {name}!'\n",
      "    except Exception as e:\n",
      "        logging.error(f\"An error occurred: {str(e)}\")\n",
      "        return 'Error processing request', 500\n",
      "\n",
      "if __name__ == '__main__':\n",
      "    app.run()\n",
      "```\n",
      "\n",
      "In this refined code:\n",
      "- Error handling is added within a `try-except` block to catch any exceptions that may occur during request processing.\n",
      "- Logging is included using the `logging` module to log any errors or information.\n",
      "- An input validation mechanism can be added as needed, depending on the specific requirements of the application.\n"
     ]
    }
   ],
   "source": [
    "response = client.chat.completions.create(\n",
    "    model=deployment,\n",
    "    messages=[\n",
    "        {\"role\": \"system\", \"content\": \"You are a senior tech lead with python expert programming knowledge.\"},\n",
    "        {\"role\": \"user\", \"content\": f\"{code} Suggest 3 improvements of the above code, and output the refined code \"}, \n",
    "    ]\n",
    ")\n",
    "print(response.choices[0].message.content)"
   ]
  },
  {
   "cell_type": "code",
   "execution_count": null,
   "id": "d6b43b1a-6e90-46d1-aa42-0b259322da27",
   "metadata": {},
   "outputs": [],
   "source": []
  }
 ],
 "metadata": {
  "kernelspec": {
   "display_name": "Python 3 (ipykernel)",
   "language": "python",
   "name": "python3"
  },
  "language_info": {
   "codemirror_mode": {
    "name": "ipython",
    "version": 3
   },
   "file_extension": ".py",
   "mimetype": "text/x-python",
   "name": "python",
   "nbconvert_exporter": "python",
   "pygments_lexer": "ipython3",
   "version": "3.12.9"
  }
 },
 "nbformat": 4,
 "nbformat_minor": 5
}
