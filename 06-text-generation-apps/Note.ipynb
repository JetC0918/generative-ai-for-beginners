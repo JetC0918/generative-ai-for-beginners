{
 "cells": [
  {
   "cell_type": "code",
   "execution_count": 10,
   "id": "53a0a2ff-1024-4bdc-989e-3ce1f6c62a5e",
   "metadata": {},
   "outputs": [],
   "source": [
    "import os \n",
    "from openai import OpenAI\n",
    "from dotenv import load_dotenv\n",
    "load_dotenv()\n",
    "\n",
    "client = OpenAI()\n",
    " "
   ]
  },
  {
   "cell_type": "code",
   "execution_count": 13,
   "id": "8d7733a4-be92-4d71-931e-a61d5a2417b4",
   "metadata": {},
   "outputs": [
    {
     "name": "stdout",
     "output_type": "stream",
     "text": [
      "Response(id='resp_684cfcbced80819bb82791d82c04732b02c55fb3dbace948', created_at=1749875900.0, error=None, incomplete_details=None, instructions=None, metadata={}, model='gpt-4.1-nano-2025-04-14', object='response', output=[ResponseOutputMessage(id='msg_684cfcbd2f40819b8bc061459987dd4f02c55fb3dbace948', content=[ResponseOutputText(annotations=[], text='Once upon a time, there was a small village nestled between rolling green hills and a sparkling river. In this village lived a young girl named Lila, who dreamt of adventures beyond the horizon. Every day, she would imagine exploring distant lands, discovering hidden treasures, and meeting wonderful creatures. Little did she know, her biggest adventure was just around the corner, waiting to change her life forever.', type='output_text', logprobs=None)], role='assistant', status='completed', type='message')], parallel_tool_calls=True, temperature=1.0, tool_choice='auto', tools=[], top_p=1.0, background=False, max_output_tokens=None, previous_response_id=None, reasoning=Reasoning(effort=None, generate_summary=None, summary=None), service_tier='default', status='completed', text=ResponseTextConfig(format=ResponseFormatText(type='text')), truncation='disabled', usage=ResponseUsage(input_tokens=18, input_tokens_details=InputTokensDetails(cached_tokens=0), output_tokens=81, output_tokens_details=OutputTokensDetails(reasoning_tokens=0), total_tokens=99), user=None, store=True)\n"
     ]
    }
   ],
   "source": [
    "prompt = \"Complete the following: Once upon a time there was a\"\n",
    "\n",
    "completion = client.responses.create(model=\"gpt-4.1-nano\", input=prompt)\n",
    "print(completion )"
   ]
  },
  {
   "cell_type": "code",
   "execution_count": 25,
   "id": "d5f42894-83ff-4488-8196-9f09ddfdcdf0",
   "metadata": {},
   "outputs": [
    {
     "name": "stdout",
     "output_type": "stream",
     "text": [
      "Once upon a time, there was a small village nestled between rolling green hills and a sparkling river. In this village lived a young girl named Lila, who dreamt of adventures beyond the horizon. Every day, she would imagine exploring distant lands, discovering hidden treasures, and meeting wonderful creatures. Little did she know, her biggest adventure was just around the corner, waiting to change her life forever.\n"
     ]
    }
   ],
   "source": [
    "print(completion.output[0].content[0].text )"
   ]
  },
  {
   "cell_type": "code",
   "execution_count": 28,
   "id": "5e2b9b77-6023-46c7-84ad-6bc3f14f0af3",
   "metadata": {},
   "outputs": [
    {
     "name": "stdout",
     "output_type": "stream",
     "text": [
      "Hello! How can I assist you today?\n"
     ]
    }
   ],
   "source": [
    "completion = client.chat.completions.create(model=\"gpt-3.5-turbo\", messages=[{\"role\": \"user\", \"content\": \"Hello world\"}])\n",
    "print(completion.choices[0].message.content)"
   ]
  },
  {
   "cell_type": "markdown",
   "id": "72e909c8-b4f2-470f-b486-fbcee8552c33",
   "metadata": {},
   "source": [
    "## Recipe generator"
   ]
  },
  {
   "cell_type": "code",
   "execution_count": 29,
   "id": "fb20ea2a-73f7-4e8f-a27d-dcb46b098403",
   "metadata": {},
   "outputs": [],
   "source": [
    "model=\"gpt-4.1-nano\""
   ]
  },
  {
   "cell_type": "code",
   "execution_count": 32,
   "id": "9cd6812e-5296-4d56-86a2-16c09989b677",
   "metadata": {},
   "outputs": [],
   "source": [
    "prompt = \"Show me 5 recipes for a dish with the following ingredients: chicken, potatoes, and carrots. Per recipe, list all the ingredients used\"\n",
    "\n",
    "messages = [{\"role\": \"user\", \"content\": prompt}]\n",
    "\n",
    "response = client.chat.completions.create(model = model, messages = messages)"
   ]
  },
  {
   "cell_type": "code",
   "execution_count": 38,
   "id": "7170652d-f43e-4b98-9c41-434ffd131e0e",
   "metadata": {},
   "outputs": [
    {
     "name": "stdout",
     "output_type": "stream",
     "text": [
      "Certainly! Here are five delicious recipes featuring chicken, potatoes, and carrots, each with their own list of ingredients:\n",
      "\n",
      "### 1. **Roast Chicken with Potatoes and Carrots**\n",
      "**Ingredients:**\n",
      "- 1 whole chicken (about 4 lbs)\n",
      "- 4 large potatoes, peeled and cut into chunks\n",
      "- 3 large carrots, sliced\n",
      "- 3 cloves garlic, minced\n",
      "- 2 tbsp olive oil\n",
      "- 1 tsp dried thyme\n",
      "- 1 tsp dried rosemary\n",
      "- Salt and pepper to taste\n",
      "- Lemon wedges (optional)\n",
      "- Fresh parsley for garnish\n",
      "\n",
      "---\n",
      "\n",
      "### 2. **Chicken and Vegetable Stew**\n",
      "**Ingredients:**\n",
      "- 2 lbs chicken thighs, boneless and skinless, cubed\n",
      "- 3 large potatoes, diced\n",
      "- 3 carrots, sliced\n",
      "- 1 onion, chopped\n",
      "- 3 cloves garlic, minced\n",
      "- 4 cups chicken broth\n",
      "- 2 tbsp olive oil\n",
      "- 1 tsp paprika\n",
      "- 1 bay leaf\n",
      "- Salt and pepper to taste\n",
      "- Fresh thyme for garnish\n",
      "\n",
      "---\n",
      "\n",
      "### 3. **Chicken, Potato, and Carrot Casserole**\n",
      "**Ingredients:**\n",
      "- 2 lbs chicken breast, cubed\n",
      "- 4 potatoes, thinly sliced\n",
      "- 3 carrots, thinly sliced\n",
      "- 1 cup cream or milk\n",
      "- 1 cup shredded cheese (cheddar or Gruyère)\n",
      "- 2 tbsp butter\n",
      "- 1 tsp dried thyme\n",
      "- Salt and pepper to taste\n",
      "- Bread crumbs for topping (optional)\n",
      "\n",
      "---\n",
      "\n",
      "### 4. **One-Pan Chicken, Potatoes, and Carrots**\n",
      "**Ingredients:**\n",
      "- 4 chicken thighs or drumsticks\n",
      "- 4 large potatoes, quartered\n",
      "- 3 carrots, cut into chunks\n",
      "- 3 tbsp olive oil\n",
      "- 1 tsp smoked paprika\n",
      "- 1 tsp garlic powder\n",
      "- 1 tsp dried oregano\n",
      "- Salt and pepper\n",
      "- Fresh parsley for garnish\n",
      "\n",
      "---\n",
      "\n",
      "### 5. **Chicken Pot Pie with Potatoes and Carrots**\n",
      "**Ingredients:**\n",
      "- 2 cups cooked chicken, shredded\n",
      "- 1 large potato, diced and cooked\n",
      "- 2 carrots, diced and cooked\n",
      "- 1 cup frozen peas\n",
      "- 1/3 cup butter\n",
      "- 1/3 cup flour\n",
      "- 2 cups chicken broth\n",
      "- 1 cup milk\n",
      "- 1 tsp dried thyme\n",
      "- Salt and pepper to taste\n",
      "- Pie crust (store-bought or homemade)\n",
      "\n",
      "---\n",
      "\n",
      "Let me know if you'd like detailed cooking instructions for any of these recipes!\n"
     ]
    }
   ],
   "source": [
    "print(response.choices[0].message.content)"
   ]
  },
  {
   "cell_type": "code",
   "execution_count": 40,
   "id": "55f3ca11-7723-43da-9158-c007a255de9f",
   "metadata": {},
   "outputs": [],
   "source": [
    "prompt = \"Please remove recipes with garlic as I'm allergic and replace it with something else. Also, please produce a shopping list for the recipes, considering I already have chicken, potatoes and carrots at home.\"\n",
    "\n",
    "messages = [{\"role\": \"user\", \"content\": prompt}]\n",
    "\n",
    "response = client.chat.completions.create(model = model, messages = messages)"
   ]
  },
  {
   "cell_type": "code",
   "execution_count": 41,
   "id": "a07edfcb-df74-4f1a-9360-6d0b9184b97d",
   "metadata": {},
   "outputs": [
    {
     "name": "stdout",
     "output_type": "stream",
     "text": [
      "Of course! Please provide the list of recipes you'd like me to adjust, and I will remove those with garlic, replace ingredients accordingly, and prepare a shopping list based on the remaining recipes, excluding chicken, potatoes, and carrots which you already have at home.\n"
     ]
    }
   ],
   "source": [
    "print(response.choices[0].message.content)"
   ]
  },
  {
   "cell_type": "code",
   "execution_count": 42,
   "id": "e7e6e273-5b86-4db6-9d7f-c043e256699b",
   "metadata": {},
   "outputs": [
    {
     "name": "stdout",
     "output_type": "stream",
     "text": [
      "Certainly! Here are five delicious recipes utilizing chicken, potatoes, and carrots:\n",
      "\n",
      "---\n",
      "\n",
      "**1. Chicken Stew with Potatoes and Carrots**\n",
      "\n",
      "**Ingredients:**\n",
      "- 4 boneless, skinless chicken breasts or thighs\n",
      "- 3 large potatoes, peeled and diced\n",
      "- 2 carrots, sliced\n",
      "- 1 onion, chopped\n",
      "- 3 cloves garlic, minced\n",
      "- 4 cups chicken broth\n",
      "- 2 tbsp olive oil\n",
      "- 1 tsp thyme\n",
      "- Salt and pepper to taste\n",
      "- Fresh parsley for garnish\n",
      "\n",
      "---\n",
      "\n",
      "**2. Roasted Chicken with Potatoes and Carrots**\n",
      "\n",
      "**Ingredients:**\n",
      "- 1 whole chicken (about 4 lbs)\n",
      "- 4 potatoes, cut into chunks\n",
      "- 3 carrots, cut into chunks\n",
      "- 4 tbsp olive oil\n",
      "- 4 garlic cloves, minced\n",
      "- 1 tsp rosemary\n",
      "- Salt and pepper to taste\n",
      "- Lemon wedges (optional)\n",
      "\n",
      "---\n",
      "\n",
      "**3. Chicken, Potato, and Carrot Hash**\n",
      "\n",
      "**Ingredients:**\n",
      "- 2 cups cooked, shredded chicken\n",
      "- 3 potatoes, diced\n",
      "- 2 carrots, diced\n",
      "- 1 onion, chopped\n",
      "- 2 tbsp vegetable oil\n",
      "- 1 tsp paprika\n",
      "- Salt and pepper to taste\n",
      "- Fresh parsley for garnish\n",
      "\n",
      "---\n",
      "\n",
      "**4. Chicken Pot Pie with Potatoes and Carrots**\n",
      "\n",
      "**Ingredients:**\n",
      "- 2 cups cooked, shredded chicken\n",
      "- 2 large potatoes, peeled and diced\n",
      "- 2 carrots, diced\n",
      "- 1 onion, chopped\n",
      "- 1 cup frozen peas (optional)\n",
      "- 1/3 cup butter\n",
      "- 1/3 cup all-purpose flour\n",
      "- 2 cups chicken broth\n",
      "- 1 cup milk\n",
      "- 1 package of pie pastry or pie crust\n",
      "- Salt and pepper to taste\n",
      "- Egg wash for crust\n",
      "\n",
      "---\n",
      "\n",
      "**5. Chicken, Potato, and Carrot Curry**\n",
      "\n",
      "**Ingredients:**\n",
      "- 1 lb chicken thighs, cubed\n",
      "- 3 potatoes, cubed\n",
      "- 2 carrots, sliced\n",
      "- 1 onion, chopped\n",
      "- 3 cloves garlic, minced\n",
      "- 1 tbsp curry powder\n",
      "- 1 can coconut milk (13.5 oz)\n",
      "- 2 tbsp vegetable oil\n",
      "- Salt to taste\n",
      "- Fresh cilantro for garnish\n",
      "\n",
      "---\n",
      "\n",
      "Would you like detailed instructions for any of these recipes?\n"
     ]
    }
   ],
   "source": [
    "prompt = \"Show me 5 recipes for a dish with the following ingredients: chicken, potatoes, and carrots. Per recipe, list all the ingredients used\"\n",
    "\n",
    "messages = [{\"role\": \"user\", \"content\": prompt}]\n",
    "\n",
    "response = client.chat.completions.create(model = model, messages = messages)\n",
    "\n",
    "print(response.choices[0].message.content)"
   ]
  },
  {
   "cell_type": "code",
   "execution_count": 43,
   "id": "fa9b80da-4146-4bfd-967c-b47eb0c1c44e",
   "metadata": {},
   "outputs": [
    {
     "name": "stdin",
     "output_type": "stream",
     "text": [
      "No of recipes (for example, 5):  5\n",
      "List of ingredients (for example, chicken, potatoes, and carrots):  chicken, potatoes, and carrots\n"
     ]
    },
    {
     "name": "stdout",
     "output_type": "stream",
     "text": [
      "Certainly! Here are 5 delicious recipes featuring chicken, potatoes, and carrots along with their ingredients:\n",
      "\n",
      "### 1. Classic Chicken Stew\n",
      "**Ingredients:**\n",
      "- 4 chicken thighs or breasts, bone-in or boneless\n",
      "- 3 large potatoes, diced\n",
      "- 3 carrots, sliced\n",
      "- 1 onion, chopped\n",
      "- 3 cloves garlic, minced\n",
      "- 4 cups chicken broth\n",
      "- 2 tbsp olive oil\n",
      "- 1 tsp thyme\n",
      "- Salt and pepper to taste\n",
      "- Fresh parsley for garnish\n",
      "\n",
      "### 2. Roasted Chicken with Potatoes and Carrots\n",
      "**Ingredients:**\n",
      "- 1 whole chicken or 4 chicken leg quarters\n",
      "- 4 potatoes, cut into chunks\n",
      "- 3 carrots, cut into chunks\n",
      "- 3 tbsp olive oil\n",
      "- 1 tsp paprika\n",
      "- 1 tsp dried rosemary\n",
      "- 4 cloves garlic, minced\n",
      "- Salt and pepper to taste\n",
      "- Lemon wedges for serving\n",
      "\n",
      "### 3. Chicken and Vegetable Sheet Pan Dinner\n",
      "**Ingredients:**\n",
      "- 4 chicken breasts or thighs\n",
      "- 4 potatoes, sliced\n",
      "- 3 carrots, sliced\n",
      "- 2 tbsp olive oil\n",
      "- 1 tsp Italian seasoning\n",
      "- 1 tsp garlic powder\n",
      "- Salt and pepper\n",
      "- Fresh thyme sprigs (optional)\n",
      "\n",
      "### 4. Chicken, Potato, and Carrot Curry\n",
      "**Ingredients:**\n",
      "- 500g chicken pieces (breast or thighs)\n",
      "- 3 potatoes, cubed\n",
      "- 3 carrots, sliced\n",
      "- 1 onion, chopped\n",
      "- 2 cloves garlic, minced\n",
      "- 1 tbsp curry powder\n",
      "- 1 can (400ml) coconut milk\n",
      "- 2 tbsp vegetable oil\n",
      "- Salt to taste\n",
      "- Fresh coriander for garnish\n",
      "\n",
      "### 5. Chicken Pot Pie Filling\n",
      "**Ingredients:**\n",
      "- 2 cups cooked chicken, shredded\n",
      "- 2 potatoes, diced\n",
      "- 3 carrots, diced\n",
      "- 1 onion, chopped\n",
      "- 2 cloves garlic, minced\n",
      "- 1 cup chicken broth\n",
      "- 1/2 cup milk or cream\n",
      "- 3 tbsp butter\n",
      "- 1/4 cup all-purpose flour\n",
      "- Salt and pepper to taste\n",
      "- Optional: frozen peas or other vegetables\n",
      "\n",
      "Let me know if you'd like detailed cooking instructions for any of these recipes!\n"
     ]
    }
   ],
   "source": [
    "no_recipes = input(\"No of recipes (for example, 5): \")\n",
    "\n",
    "ingredients = input(\"List of ingredients (for example, chicken, potatoes, and carrots): \")\n",
    "\n",
    "# interpolate the number of recipes into the prompt an ingredients\n",
    "prompt = f\"Show me {no_recipes} recipes for a dish with the following ingredients: {ingredients}. Per recipe, list all the ingredients used\"\n",
    "\n",
    "messages = [{\"role\": \"user\", \"content\": prompt}]\n",
    "\n",
    "response = client.chat.completions.create(model = model, messages = messages)\n",
    "\n",
    "print(response.choices[0].message.content)"
   ]
  },
  {
   "cell_type": "code",
   "execution_count": 44,
   "id": "9ee2f81e-9894-4555-8988-427aaff36b73",
   "metadata": {},
   "outputs": [
    {
     "name": "stdin",
     "output_type": "stream",
     "text": [
      "Filter (for example, vegetarian, vegan, or gluten-free):  vegan\n"
     ]
    }
   ],
   "source": [
    "filter = input(\"Filter (for example, vegetarian, vegan, or gluten-free): \")\n",
    "\n",
    "prompt = f\"Show me {no_recipes} recipes for a dish with the following ingredients: {ingredients}. Per recipe, list all the ingredients used, no {filter}\""
   ]
  },
  {
   "cell_type": "code",
   "execution_count": 45,
   "id": "3fb2e88d-8dd1-4faf-b49d-a4d421928c00",
   "metadata": {},
   "outputs": [
    {
     "name": "stdout",
     "output_type": "stream",
     "text": [
      "Show me 5 recipes for a dish with the following ingredients: chicken, potatoes, and carrots. Per recipe, list all the ingredients used, no vegan\n"
     ]
    }
   ],
   "source": [
    "print(prompt)"
   ]
  },
  {
   "cell_type": "code",
   "execution_count": 46,
   "id": "eee01204-b116-4582-b69f-8178ade3d3d4",
   "metadata": {},
   "outputs": [
    {
     "name": "stdout",
     "output_type": "stream",
     "text": [
      "Certainly! Here are 5 delicious non-vegan recipes featuring chicken, potatoes, and carrots:\n",
      "\n",
      "### 1. Chicken and Vegetable Stew\n",
      "**Ingredients:**\n",
      "- 2 lbs boneless, skinless chicken thighs, cut into chunks\n",
      "- 4 large potatoes, peeled and diced\n",
      "- 3 carrots, sliced\n",
      "- 1 onion, chopped\n",
      "- 3 cloves garlic, minced\n",
      "- 4 cups chicken broth\n",
      "- 2 tbsp olive oil\n",
      "- 1 tsp thyme\n",
      "- Salt and pepper to taste\n",
      "- Fresh parsley for garnish\n",
      "\n",
      "---\n",
      "\n",
      "### 2. Roast Chicken with Potatoes and Carrots\n",
      "**Ingredients:**\n",
      "- 1 whole chicken (about 4 lbs)\n",
      "- 4 potatoes, quartered\n",
      "- 4 carrots, cut into chunks\n",
      "- 3 tbsp olive oil\n",
      "- 1 tbsp paprika\n",
      "- 1 tsp garlic powder\n",
      "- 1 tsp rosemary\n",
      "- Salt and pepper to taste\n",
      "- Lemon wedges for serving\n",
      "\n",
      "---\n",
      "\n",
      "### 3. Chicken, Potato, and Carrot Casserole\n",
      "**Ingredients:**\n",
      "- 2 lbs chicken breasts, sliced\n",
      "- 3 large potatoes, sliced\n",
      "- 3 carrots, sliced\n",
      "- 1 cup shredded cheddar cheese\n",
      "- 1 cup cream or milk\n",
      "- 2 tbsp butter\n",
      "- 1 tsp thyme\n",
      "- Salt and pepper to taste\n",
      "- breadcrumbs for topping\n",
      "\n",
      "---\n",
      "\n",
      "### 4. Chicken and Potato Hash with Carrots\n",
      "**Ingredients:**\n",
      "- 2 cups cooked chicken, diced\n",
      "- 3 potatoes, diced\n",
      "- 2 carrots, diced\n",
      "- 1 onion, chopped\n",
      "- 2 cloves garlic, minced\n",
      "- 2 tbsp vegetable oil\n",
      "- Salt, pepper, and smoked paprika to taste\n",
      "- Eggs (optional) for serving\n",
      "\n",
      "---\n",
      "\n",
      "### 5. Chicken, Potato, and Carrot Curry\n",
      "**Ingredients:**\n",
      "- 1.5 lbs chicken thighs, cut into chunks\n",
      "- 3 potatoes, diced\n",
      "- 3 carrots, sliced\n",
      "- 1 onion, chopped\n",
      "- 3 cloves garlic, minced\n",
      "- 1 can coconut milk\n",
      "- 2 tbsp curry powder\n",
      "- 2 tbsp oil\n",
      "- Salt to taste\n",
      "- Fresh cilantro for garnish\n",
      "\n",
      "Let me know if you'd like detailed cooking instructions for any of these recipes!\n"
     ]
    }
   ],
   "source": [
    "\n",
    "messages = [{\"role\": \"user\", \"content\": prompt}]\n",
    "\n",
    "response = client.chat.completions.create(model = model, messages = messages)\n",
    "\n",
    "print(response.choices[0].message.content)"
   ]
  },
  {
   "cell_type": "code",
   "execution_count": 54,
   "id": "b8e994d1-4dc6-446b-a7aa-aeb4746209bc",
   "metadata": {},
   "outputs": [
    {
     "name": "stdout",
     "output_type": "stream",
     "text": [
      "Shopping list:\n",
      "Certainly! Here's a consolidated shopping list for the recipes, excluding ingredients you already have:\n",
      "\n",
      "**Produce:**\n",
      "- 4 large potatoes\n",
      "- 3 carrots\n",
      "- 1 onion\n",
      "- 3 cloves garlic\n",
      "- Lemon wedges (for serving)\n",
      "- Fresh parsley (for garnish)\n",
      "- Fresh cilantro (for garnish)\n",
      "\n",
      "**Meat & Poultry:**\n",
      "- 2 lbs boneless, skinless chicken thighs\n",
      "- 1 whole chicken (about 4 lbs)\n",
      "- 2 lbs chicken breasts\n",
      "\n",
      "**Dairy & Eggs:**\n",
      "- 1 cup shredded cheddar cheese\n",
      "- 1 cup cream or milk\n",
      "- 2 tbsp butter\n",
      "- Eggs (optional, for Hash)\n",
      "\n",
      "**Pantry Items & Spices:**\n",
      "- Chicken broth (4 cups)\n",
      "- Olive oil\n",
      "- Vegetable oil\n",
      "- Smoked paprika\n",
      "- Paprika\n",
      "- Garlic powder\n",
      "- Thyme\n",
      "- Rosemary\n",
      "- Curry powder\n",
      "- Salt\n",
      "- Pepper\n",
      "\n",
      "**Breads & Cereals:**\n",
      "- Breadcrumbs\n",
      "\n",
      "**Canned & Jarred Goods:**\n",
      "- 1 can coconut milk\n",
      "\n",
      "Let me know if you'd like any adjustments or additional items!\n"
     ]
    }
   ],
   "source": [
    "old_prompt_result = response.choices[0].message.content\n",
    "prompt = \"Produce a shopping list for the generated recipes and please don't include ingredients that I already have.\"\n",
    "\n",
    "new_prompt = f\" {prompt} {old_prompt_result}\"\n",
    "messages =[{'role':'user', 'content': new_prompt}]\n",
    "responses =  client.chat.completions.create(model = model, messages = messages, max_tokens=1200)\n",
    "\n",
    "\n",
    "# print response\n",
    "print(\"Shopping list:\")\n",
    "print(responses.choices[0].message.content)"
   ]
  },
  {
   "cell_type": "markdown",
   "id": "db580892-9a47-4baf-93d6-a167a210dd64",
   "metadata": {},
   "source": [
    "## Study Buddy"
   ]
  },
  {
   "cell_type": "code",
   "execution_count": 56,
   "id": "b8465a41-c4da-471b-aa0b-a8cec2ec4ce7",
   "metadata": {},
   "outputs": [
    {
     "name": "stdout",
     "output_type": "stream",
     "text": [
      "That's a great goal! Becoming proficient in Python and programming in general takes time, practice, and a strategic approach. Here are some steps you can follow to become a professional-level Python programmer:\n",
      "\n",
      "1. **Master the Basics:**\n",
      "   - Understand fundamental concepts: variables, data types, control structures (if, for, while), functions, and modules.\n",
      "   - Practice writing simple programs to strengthen your foundation.\n",
      "\n",
      "2. **Write Code Regularly:**\n",
      "   - Consistency is key. Code daily or several times a week.\n",
      "   - Challenge yourself with small projects, coding exercises, or solving problems on platforms like LeetCode, HackerRank, or Codewars.\n",
      "\n",
      "3. **Study Data Structures and Algorithms:**\n",
      "   - Learn about lists, dictionaries, sets, tuples, stacks, queues, trees, graphs, etc.\n",
      "   - Understand algorithm concepts like sorting, searching, recursion, and dynamic programming.\n",
      "\n",
      "4. **Read Python Documentation and Books:**\n",
      "   - Familiarize yourself with official Python documentation.\n",
      "   - Read popular books like \"Automate the Boring Stuff with Python,\" \"Python Crash Course,\" and \"Fluent Python.\"\n",
      "\n",
      "5. **Work on Real Projects:**\n",
      "   - Build projects that interest you: web apps, automation scripts, data analysis, game development, etc.\n",
      "   - Open-source contributions are also a great way to learn from others.\n",
      "\n",
      "6. **Learn Libraries and Frameworks:**\n",
      "   - Depending on your interests, explore relevant libraries:\n",
      "     - Web development: Django, Flask\n",
      "     - Data analysis: NumPy, pandas\n",
      "     - Machine learning: scikit-learn, TensorFlow\n",
      "     - Automation: Requests, BeautifulSoup, Selenium\n",
      "\n",
      "7. **Debug and Optimize Your Code:**\n",
      "   - Learn to use debugging tools.\n",
      "   - Write clean, readable, and efficient code.\n",
      "   - Practice writing tests for your code.\n",
      "\n",
      "8. **Participate in Coding Communities:**\n",
      "   - Join forums, attend meetups, and participate in online communities like Stack Overflow, Reddit’s r/learnpython.\n",
      "   - Collaborate with others and seek feedback.\n",
      "\n",
      "9. **Keep Updated and Continuously Learn:**\n",
      "   - Follow Python news and updates.\n",
      "   - Explore advanced topics like concurrency, asynchronous programming, design patterns, and software architecture.\n",
      "\n",
      "10. **Practice Soft Skills:**\n",
      "    - Learn to document your code.\n",
      "    - Improve your problem-solving skills and critical thinking.\n",
      "    - Communicate your ideas clearly.\n",
      "\n",
      "Remember, mastery takes time. Be patient, keep practicing, and enjoy the learning journey. If you have specific goals (like web dev, data science, automation), I can give more tailored advice.\n"
     ]
    }
   ],
   "source": [
    "sys_prompt = \"You are a python expert with years of Python programming experience\"\n",
    "prompt = \"Suggestt how to be a pro like you for a beginner\"\n",
    "\n",
    "\n",
    "messages =[{'role':'system', 'content': sys_prompt}, {'role':'user', 'content':prompt}]\n",
    "responses =  client.chat.completions.create(model = model, messages = messages, max_tokens=1200)\n",
    "\n",
    "\n",
    "# print response \n",
    "print(responses.choices[0].message.content)"
   ]
  },
  {
   "cell_type": "markdown",
   "id": "a7841a6a-ae8c-4229-b554-d9aad6d403eb",
   "metadata": {},
   "source": [
    "## History bot"
   ]
  },
  {
   "cell_type": "code",
   "execution_count": 58,
   "id": "9e645871-71d7-4c15-bbe4-6c2afe0f941c",
   "metadata": {},
   "outputs": [
    {
     "name": "stdout",
     "output_type": "stream",
     "text": [
      "Ah, good day! I be Robin Hood, the outlaw of Sherwood Forest, takin' from the rich to give to the poor, so justice might be served where it’s often denied. I wear me Lincoln green and bow, meanin’ to fight tyranny and uphold righteousness in these troubled times. My purpose is to defy the corrupt and protect the innocent, for that be the true meaning of a hero, aye!\n"
     ]
    }
   ],
   "source": [
    "sys_prompt = \"You are a actor who can play a certain historical character and able to answer all the question about the charaacter life and times\"\n",
    "prompt = \"Robin Hood, tell me about yourself in 3 sentence, use reply in style of the character\"\n",
    "\n",
    "\n",
    "messages =[{'role':'system', 'content': sys_prompt}, {'role':'user', 'content':prompt}]\n",
    "responses =  client.chat.completions.create(model = model, messages = messages, max_tokens=1200)\n",
    "\n",
    "\n",
    "# print response \n",
    "print(responses.choices[0].message.content)"
   ]
  },
  {
   "cell_type": "code",
   "execution_count": null,
   "id": "c8e9ebee-7434-42a1-997c-12efc5263a57",
   "metadata": {},
   "outputs": [],
   "source": []
  }
 ],
 "metadata": {
  "kernelspec": {
   "display_name": "Python 3 (ipykernel)",
   "language": "python",
   "name": "python3"
  },
  "language_info": {
   "codemirror_mode": {
    "name": "ipython",
    "version": 3
   },
   "file_extension": ".py",
   "mimetype": "text/x-python",
   "name": "python",
   "nbconvert_exporter": "python",
   "pygments_lexer": "ipython3",
   "version": "3.12.9"
  }
 },
 "nbformat": 4,
 "nbformat_minor": 5
}
