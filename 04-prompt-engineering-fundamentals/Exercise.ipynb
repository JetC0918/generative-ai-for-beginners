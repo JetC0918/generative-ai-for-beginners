{
 "cells": [
  {
   "cell_type": "code",
   "execution_count": 20,
   "id": "12e7393e-b998-4fec-a2f7-c9a27675cea7",
   "metadata": {
    "scrolled": true
   },
   "outputs": [
    {
     "name": "stdout",
     "output_type": "stream",
     "text": [
      "AIza\n"
     ]
    }
   ],
   "source": [
    "from dotenv import load_dotenv\n",
    "import os  \n",
    "\n",
    "# Load the .env file\n",
    "load_dotenv( )\n",
    "\n",
    "# Access the GITHUB_TOKEN variable\n",
    "gemini_key = os.getenv(\"GEMINI_API_KEY\")\n",
    "\n",
    "print(gemini_key[:4])"
   ]
  },
  {
   "cell_type": "code",
   "execution_count": 23,
   "id": "dcfd6c41-76b0-4be1-87c7-7f7c4b771db2",
   "metadata": {},
   "outputs": [],
   "source": [
    "from google import genai\n",
    "\n",
    "\n",
    "client = genai.Client(api_key=gemini_key)"
   ]
  },
  {
   "cell_type": "markdown",
   "id": "ea498a82-cdf3-4646-a905-95f711315b3e",
   "metadata": {},
   "source": [
    "## Basic Prompt\n"
   ]
  },
  {
   "cell_type": "code",
   "execution_count": 24,
   "id": "375b930a-842a-4568-a0ea-60304ec233f0",
   "metadata": {},
   "outputs": [
    {
     "name": "stdout",
     "output_type": "stream",
     "text": [
      "By the dawn's early light\n",
      "\n"
     ]
    }
   ],
   "source": [
    "query = \"Oh say can you see\"\n",
    "\n",
    "response = client.models.generate_content(\n",
    "    model=\"gemini-2.0-flash\", contents={query}\n",
    ")\n",
    "print(response.text)"
   ]
  },
  {
   "cell_type": "markdown",
   "id": "2ce43a80-46d2-4c27-8ce2-f0e53023db31",
   "metadata": {},
   "source": [
    "## Complex Prompt\n",
    "\n",
    "response = openai.chat.completions.create(\n",
    "    model=\"gpt-3.5-turbo\",\n",
    "    messages=[\n",
    "        {\"role\": \"system\", \"content\": \"You are a helpful assistant.\"},\n",
    "        {\"role\": \"user\", \"content\": \"Who won the world series in 2020?\"},\n",
    "        {\"role\": \"assistant\", \"content\": \"The Los Angeles Dodgers won the World Series in 2020.\"},\n",
    "        {\"role\": \"user\", \"content\": \"Where was it played?\"}\n",
    "    ]\n",
    ")"
   ]
  },
  {
   "cell_type": "markdown",
   "id": "ca1d3212-415a-4011-8a51-c04858f8027f",
   "metadata": {},
   "source": [
    "## Complex Prompt\n",
    "\n",
    "``` response = openai.chat.completions.create(  \n",
    "    model=\"gpt-3.5-turbo\",\n",
    "    messages=[\n",
    "        {\"role\": \"system\", \"content\": \"You are a helpful assistant.\"},\n",
    "        {\"role\": \"user\", \"content\": \"Who won the world series in 2020?\"},\n",
    "        {\"role\": \"assistant\", \"content\": \"The Los Angeles Dodgers won the World Series in 2020.\"},\n",
    "        {\"role\": \"user\", \"content\": \"Where was it played?\"}\n",
    "    ]\n",
    ")\n",
    "```"
   ]
  },
  {
   "cell_type": "code",
   "execution_count": 51,
   "id": "a1d825c5-9822-45ca-8b94-6611fe376f3a",
   "metadata": {},
   "outputs": [
    {
     "name": "stdout",
     "output_type": "stream",
     "text": [
      "The 2020 World Series was played at Globe Life Field in Arlington, Texas.\n",
      "\n"
     ]
    }
   ],
   "source": [
    "\n",
    "from google.genai import types\n",
    "\n",
    "chat_history = [  \n",
    "        {\n",
    "            \"role\": \"user\", \n",
    "            \"parts\": [\"Who won the world series in 2020?\"]\n",
    "        },\n",
    "        {\n",
    "            \"role\": \"model\", \n",
    "            \"parts\": [\"The Los Angeles Dodgers won the World Series in 2020.\"]\n",
    "        },\n",
    "        {\n",
    "            \"role\": \"user\", \n",
    "            \"content\": \"Where was it played?\"}\n",
    "    ]\n",
    " \n",
    " \n",
    "response = client.models.generate_content(\n",
    "  model='gemini-2.0-flash',\n",
    "  config=types.GenerateContentConfig(\n",
    "  system_instruction=\"You are a helpful assistant.\"),\n",
    "  contents=[f'{chat_history}']\n",
    ")   \n",
    "print(response.text)"
   ]
  },
  {
   "cell_type": "markdown",
   "id": "7858d399-99e1-4d1c-9cbf-d4263a9d3dba",
   "metadata": {},
   "source": [
    "## Instruction Prompt\n"
   ]
  },
  {
   "cell_type": "code",
   "execution_count": 52,
   "id": "49a26a3f-1e5f-4571-93a7-0e82cc243b29",
   "metadata": {},
   "outputs": [
    {
     "name": "stdout",
     "output_type": "stream",
     "text": [
      "The American Civil War, fought from 1861 to 1865, was a brutal and transformative conflict that pitted the United States of America (the Union) against the Confederate States of America, a breakaway nation formed by several Southern states that seceded from the Union.  At its core, the war revolved around the issue of slavery and states' rights.\n",
      "\n",
      "**The South's Economy and Slavery:** The Southern economy was heavily reliant on agriculture, particularly cotton, and the institution of chattel slavery was deeply ingrained in their way of life.  Southerners believed in states' rights, arguing that individual states had the power to decide on issues like slavery, even if it conflicted with federal laws.  They feared that the federal government, increasingly dominated by anti-slavery sentiment in the North, would eventually abolish slavery, destroying their economy and way of life.\n",
      "\n",
      "**The North's Anti-Slavery Sentiment:** The North, with its growing industrial economy, increasingly opposed slavery.  Abolitionist movements gained momentum, arguing that slavery was morally wrong and a violation of basic human rights. While not all Northerners were abolitionists, many believed in preventing the expansion of slavery into new territories, seeing it as a threat to free labor and economic opportunity.\n",
      "\n",
      "**The Spark:** The election of Abraham Lincoln in 1860, a Republican who opposed the expansion of slavery, was the final catalyst.  Southern states, fearing for the future of their institution, began to secede, forming the Confederate States of America.  The war officially began with the Confederate attack on Fort Sumter in Charleston, South Carolina, in April 1861.\n",
      "\n",
      "**The War:** The conflict was devastatingly bloody.  Key battles like Gettysburg, Antietam, Vicksburg, and Shiloh resulted in immense casualties.  The Union, with its larger population, industrial base, and superior resources, gradually gained the upper hand.  The Union blockade of Southern ports crippled the Confederate economy.\n",
      "\n",
      "**Key Turning Points:**\n",
      "\n",
      "*   **The Emancipation Proclamation (1863):**  Issued by President Lincoln, this declared all slaves in rebel-held territory free. It reframed the war as a fight for human freedom and discouraged European powers from recognizing the Confederacy.\n",
      "*   **Gettysburg (1863):**  A decisive Union victory that marked the turning point in the Eastern theater of the war.\n",
      "*   **Vicksburg (1863):**  The Union capture of Vicksburg, Mississippi, gave the Union control of the Mississippi River, effectively splitting the Confederacy in two.\n",
      "\n",
      "**The End:**  After years of intense fighting and immense suffering, the Confederacy began to crumble.  General Robert E. Lee, commander of the Confederate Army of Northern Virginia, surrendered to Union General Ulysses S. Grant at Appomattox Court House in Virginia on April 9, 1865.  This marked the effective end of the war, although scattered fighting continued for a short time.\n",
      "\n",
      "**The Aftermath:**  The Civil War was the deadliest war in American history, resulting in over 620,000 deaths.  It ended slavery, preserved the Union, and fundamentally altered the social, political, and economic landscape of the United States.  Reconstruction, the period following the war, aimed to rebuild the South and integrate formerly enslaved people into society. However, it was met with resistance and ultimately fell short of its goals, leaving a legacy of racial inequality that continues to resonate today. The Civil War remains a pivotal event in American history, shaping the nation's identity and continuing to be studied and debated.\n",
      "\n"
     ]
    }
   ],
   "source": [
    "query = \"Write a description of the Civil War\"\n",
    "\n",
    "response = client.models.generate_content(\n",
    "    model=\"gemini-2.0-flash\", contents={query}\n",
    ")\n",
    "print(response.text)"
   ]
  },
  {
   "cell_type": "code",
   "execution_count": 54,
   "id": "6c212832-43e4-4d37-9fd2-a9d16254786d",
   "metadata": {},
   "outputs": [
    {
     "name": "stdout",
     "output_type": "stream",
     "text": [
      "```json\n",
      "{\n",
      "  \"description\": \"The American Civil War (1861-1865) was a brutal conflict fought between the United States of America (the Union) and the Confederate States of America, a collection of eleven southern states that seceded from the Union in 1860 and 1861. The primary cause of the war was slavery and the irreconcilable differences over states' rights and economic systems dependent on enslaved labor. The Union ultimately prevailed, preserving the nation and abolishing slavery, but at a tremendous cost in human life and societal upheaval. Reconstruction followed, aiming to rebuild the South and integrate formerly enslaved people into American society, though this process was fraught with challenges and ultimately fell short of its goals.\",\n",
      "  \"key_dates\": [\n",
      "    {\n",
      "      \"date\": \"April 12, 1861\",\n",
      "      \"significance\": \"The Confederate attack on Fort Sumter in Charleston, South Carolina, marked the beginning of the Civil War.\"\n",
      "    },\n",
      "    {\n",
      "      \"date\": \"January 1, 1863\",\n",
      "      \"significance\": \"President Abraham Lincoln issued the Emancipation Proclamation, declaring the freedom of slaves in Confederate-held territory. This reframed the war as a fight for liberation and weakened the Confederacy's labor force.\"\n",
      "    },\n",
      "    {\n",
      "      \"date\": \"April 9, 1865\",\n",
      "      \"significance\": \"Confederate General Robert E. Lee surrendered to Union General Ulysses S. Grant at Appomattox Court House, Virginia, effectively ending the Civil War.\"\n",
      "    }\n",
      "  ],\n",
      "  \"key_figures\": [\n",
      "    {\n",
      "      \"name\": \"Abraham Lincoln\",\n",
      "      \"contribution\": \"As President of the United States, Lincoln led the Union through the Civil War, preserved the nation, issued the Emancipation Proclamation, and laid the groundwork for Reconstruction.\"\n",
      "    },\n",
      "    {\n",
      "      \"name\": \"Ulysses S. Grant\",\n",
      "      \"contribution\": \"A prominent Union general, Grant's leadership and strategic victories, particularly at Vicksburg and in the Overland Campaign, were crucial to the Union's eventual triumph. He later served as President of the United States.\"\n",
      "    },\n",
      "    {\n",
      "      \"name\": \"Robert E. Lee\",\n",
      "      \"contribution\": \"The commander of the Confederate Army of Northern Virginia, Lee was a highly respected military strategist. His leadership and tactical skills made him a symbol of the Confederacy, though he ultimately surrendered to Grant.\"\n",
      "    }\n",
      "  ]\n",
      "}\n",
      "```\n",
      "\n"
     ]
    }
   ],
   "source": [
    "query = \"Write a description of the Civil War in 1 paragraph. Provide 3 bullet points with key dates and their significance. Provide 3 more bullet points with key historical figures and their contributions. Return the output as a JSON file\t\"\n",
    "\n",
    "response = client.models.generate_content(\n",
    "    model=\"gemini-2.0-flash\", contents={query}\n",
    ")\n",
    "print(response.text)"
   ]
  },
  {
   "cell_type": "markdown",
   "id": "f79b13c4-a23a-457d-aa5f-73d8f6398336",
   "metadata": {},
   "source": [
    "## Primary Content\n"
   ]
  },
  {
   "cell_type": "code",
   "execution_count": 57,
   "id": "73a9ca0a-7306-4789-bbab-2ee73b59581c",
   "metadata": {},
   "outputs": [
    {
     "name": "stdout",
     "output_type": "stream",
     "text": [
      "Jupiter, the fifth planet from the Sun, is the Solar System's largest gas giant, dwarfing all other planets combined.  Easily visible to the naked eye, it's a historically significant and extremely bright object in the night sky.\n",
      "\n"
     ]
    }
   ],
   "source": [
    "query = \"Jupiter is the fifth planet from the Sun and the largest in the Solar System. It is a gas giant with a mass one-thousandth that of the Sun, but two-and-a-half times that of all the other planets in the Solar System combined. Jupiter is one of the brightest objects visible to the naked eye in the night sky, and has been known to ancient civilizations since before recorded history. It is named after the Roman god Jupiter.[19] When viewed from Earth, Jupiter can be bright enough for its reflected light to cast visible shadows,[20] and is on average the third-brightest natural object in the night sky after the Moon and Venus.Summarize this in 2 short sentences\t\"\n",
    "\n",
    "response = client.models.generate_content(\n",
    "    model=\"gemini-2.0-flash\", contents={query}\n",
    ")\n",
    "print(response.text)"
   ]
  },
  {
   "cell_type": "markdown",
   "id": "8ee566c4-cc7f-41fc-adf6-d2ba1f9e4a69",
   "metadata": {},
   "source": [
    "## Using Examples\n"
   ]
  },
  {
   "cell_type": "code",
   "execution_count": 60,
   "id": "5fd4261b-158f-412b-b304-cd6056f6f5c6",
   "metadata": {},
   "outputs": [
    {
     "name": "stdout",
     "output_type": "stream",
     "text": [
      "The most common and natural translation of \"The Sun is Shining\" to Spanish is:\n",
      "\n",
      "*   **El sol está brillando.**\n"
     ]
    }
   ],
   "source": [
    "# Zero-shot\n",
    "\n",
    "query = \"{The Sun is Shining} . Translate to Spanish\t\"\n",
    "\n",
    "response = client.models.generate_content(\n",
    "    model=\"gemini-2.0-flash\", contents={query}\n",
    ")\n",
    "print(response.text)"
   ]
  },
  {
   "cell_type": "code",
   "execution_count": 61,
   "id": "9d6284f4-3ddd-4ea5-81f1-16997a43b5f1",
   "metadata": {},
   "outputs": [
    {
     "name": "stdout",
     "output_type": "stream",
     "text": [
      "\"Es un día frío y ventoso.\"\n",
      "\n"
     ]
    }
   ],
   "source": [
    "# One-shot\n",
    "\n",
    "query = \"\"\"\"The Sun is Shining\" => \"\"El Sol está brillando\".\n",
    "\"It's a Cold and Windy Day\" =>\t\"\"\"\n",
    "\n",
    "response = client.models.generate_content(\n",
    "    model=\"gemini-2.0-flash\", contents={query}\n",
    ")\n",
    "print(response.text)"
   ]
  },
  {
   "cell_type": "code",
   "execution_count": 62,
   "id": "1ab63639-0186-49e2-916d-96eedae1be53",
   "metadata": {},
   "outputs": [
    {
     "name": "stdout",
     "output_type": "stream",
     "text": [
      "Basketball\n",
      "\n"
     ]
    }
   ],
   "source": [
    "# Few-shot\n",
    "\n",
    "query = \"\"\"\"The player ran the bases => Baseball\n",
    "The player hit an ace => Tennis\n",
    "The player hit a six => Cricket\n",
    "The player made a slam-dunk =>\t\"\"\"\n",
    "\n",
    "response = client.models.generate_content(\n",
    "    model=\"gemini-2.0-flash\", contents={query}\n",
    ")\n",
    "print(response.text)"
   ]
  },
  {
   "cell_type": "code",
   "execution_count": null,
   "id": "222dd70d-d849-4975-8afc-c74b216b8348",
   "metadata": {},
   "outputs": [],
   "source": []
  }
 ],
 "metadata": {
  "kernelspec": {
   "display_name": "Python 3 (ipykernel)",
   "language": "python",
   "name": "python3"
  },
  "language_info": {
   "codemirror_mode": {
    "name": "ipython",
    "version": 3
   },
   "file_extension": ".py",
   "mimetype": "text/x-python",
   "name": "python",
   "nbconvert_exporter": "python",
   "pygments_lexer": "ipython3",
   "version": "3.12.9"
  }
 },
 "nbformat": 4,
 "nbformat_minor": 5
}
